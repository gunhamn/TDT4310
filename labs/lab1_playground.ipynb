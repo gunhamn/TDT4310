{
 "cells": [
  {
   "cell_type": "markdown",
   "metadata": {},
   "source": [
    "# Lab 1 playground\n",
    "Below are a few examples you can run if you wish! These make use of the `transformers` library.\n",
    "The examples require around ~1 GB of available storage."
   ]
  },
  {
   "cell_type": "code",
   "execution_count": null,
   "metadata": {},
   "outputs": [],
   "source": [
    "# install requirements:\n",
    "%pip install transformers\n",
    "%pip install torch"
   ]
  },
  {
   "cell_type": "markdown",
   "metadata": {},
   "source": [
    "### GPT"
   ]
  },
  {
   "cell_type": "code",
   "execution_count": 8,
   "metadata": {},
   "outputs": [
    {
     "name": "stdout",
     "output_type": "stream",
     "text": [
      "EleutherAI/gpt-neo-125m's vocab size is 50257\n",
      "{'input_ids': tensor([[1135, 2050,  780]]), 'attention_mask': tensor([[1, 1, 1]])}\n",
      "Inspect a vocab id 1135: We\n",
      "The outputs of the next token will be a distribution over the entire vocabulary\n",
      "Output: 50257 == Vocab: 50257\n",
      "--------------------------------------------------\n",
      "We study because\n",
      "- of (prob 0.2096)\n",
      "- it (prob 0.1508)\n",
      "- we (prob 0.0938)\n",
      "- the (prob 0.0833)\n",
      "- they (prob 0.0553)\n"
     ]
    }
   ],
   "source": [
    "import torch\n",
    "from transformers import AutoTokenizer, AutoModelForCausalLM\n",
    "\n",
    "model_id = \"EleutherAI/gpt-neo-125m\"\n",
    "tokenizer = AutoTokenizer.from_pretrained(model_id)\n",
    "model = AutoModelForCausalLM.from_pretrained(model_id)\n",
    "\n",
    "print(f\"{model_id}'s vocab size is {model.config.vocab_size}\")\n",
    "\n",
    "query = \"We study because\"\n",
    "# this encodes the query according to the model's setup and vocabulary\n",
    "encoded_text = tokenizer(query, return_tensors=\"pt\")\n",
    "print(encoded_text)  # notice the input_ids, which are the token indices in the vocab\n",
    "print(f\"Inspect a vocab id 1135: {tokenizer.decode(1135)}\")\n",
    "\n",
    "with torch.no_grad():  # disable gradient calculation for inference\n",
    "    outputs = model(**encoded_text)\n",
    "next_token = outputs.logits[-1, -1, :] # select the last token from the sequence and all the vocab logits (:)\n",
    "print(\"The outputs of the next token will be a distribution over the entire vocabulary\")\n",
    "print(f\"Output: {next_token.shape[0]} == Vocab: {model.config.vocab_size}\")\n",
    "\n",
    "probdist = torch.softmax(next_token, -1)  # -1 means last axis, or the vocab axis\n",
    "\n",
    "k_best = 5\n",
    "topk_next_tokens= torch.topk(probdist, k_best)\n",
    "\n",
    "print(\"-\" * 50)\n",
    "print(query)\n",
    "for idx, prob in zip(topk_next_tokens.indices, topk_next_tokens.values):\n",
    "    print(f\"- {tokenizer.decode(idx).strip()} (prob {prob.item():.4f})\")"
   ]
  },
  {
   "cell_type": "code",
   "execution_count": 9,
   "metadata": {},
   "outputs": [
    {
     "name": "stderr",
     "output_type": "stream",
     "text": [
      "Setting `pad_token_id` to `eos_token_id`:50256 for open-end generation.\n",
      "/home/tollef/.local/lib/python3.10/site-packages/transformers/generation/utils.py:1355: UserWarning: Using the model-agnostic default `max_length` (=20) to control the generation length. We recommend setting `max_new_tokens` to control the maximum length of the generation.\n",
      "  warnings.warn(\n"
     ]
    },
    {
     "name": "stdout",
     "output_type": "stream",
     "text": [
      "This model is pretty bad, but I think it's a good one.\n",
      "\n",
      "I'm not\n"
     ]
    }
   ],
   "source": [
    "# it can also be used in a simple pipeline:\n",
    "from transformers import pipeline\n",
    "\n",
    "gpt_pipe = pipeline(\"text-generation\", model=\"EleutherAI/gpt-neo-125m\");\n",
    "output = gpt_pipe(\"This model is pretty bad, but\")\n",
    "print(output[0][\"generated_text\"])"
   ]
  },
  {
   "cell_type": "markdown",
   "metadata": {},
   "source": [
    "### A BERT masked example"
   ]
  },
  {
   "cell_type": "code",
   "execution_count": 10,
   "metadata": {},
   "outputs": [
    {
     "name": "stderr",
     "output_type": "stream",
     "text": [
      "Some weights of the model checkpoint at bert-base-cased were not used when initializing BertForMaskedLM: ['cls.seq_relationship.weight', 'bert.pooler.dense.bias', 'cls.seq_relationship.bias', 'bert.pooler.dense.weight']\n",
      "- This IS expected if you are initializing BertForMaskedLM from the checkpoint of a model trained on another task or with another architecture (e.g. initializing a BertForSequenceClassification model from a BertForPreTraining model).\n",
      "- This IS NOT expected if you are initializing BertForMaskedLM from the checkpoint of a model that you expect to be exactly identical (initializing a BertForSequenceClassification model from a BertForSequenceClassification model).\n"
     ]
    },
    {
     "name": "stdout",
     "output_type": "stream",
     "text": [
      "--------------------------------------------------\n",
      "At NTNU you can study [MASK] engineering\n",
      "- electrical\n",
      "- civil\n",
      "- mechanical\n",
      "- chemical\n",
      "- software\n"
     ]
    }
   ],
   "source": [
    "from transformers import BertTokenizer, BertForMaskedLM\n",
    "import torch\n",
    "\n",
    "bert_model_id = \"bert-base-cased\"\n",
    "tokenizer = BertTokenizer.from_pretrained(bert_model_id)\n",
    "model = BertForMaskedLM.from_pretrained(bert_model_id)\n",
    "\n",
    "MASK = tokenizer.mask_token\n",
    "text = f\"At NTNU you can study {MASK} engineering\"\n",
    "\n",
    "encoded = tokenizer.encode(text)\n",
    "decoded = tokenizer.decode(encoded)\n",
    "tokens = tokenizer.tokenize(decoded)\n",
    "\n",
    "input_ids = tokenizer.convert_tokens_to_ids(tokens)\n",
    "input_ids = torch.tensor(input_ids).unsqueeze(0)\n",
    "\n",
    "with torch.no_grad():\n",
    "    predictions = model(input_ids)[0]\n",
    "\n",
    "_, top_k_indices = torch.topk(predictions[0, tokens.index(MASK)], k=5)\n",
    "top_k_tokens = tokenizer.convert_ids_to_tokens(top_k_indices)\n",
    "\n",
    "print(\"-\" * 50)\n",
    "print(text)\n",
    "for token in top_k_tokens:\n",
    "    print(f\"- {token}\")\n"
   ]
  }
 ],
 "metadata": {
  "kernelspec": {
   "display_name": "Python 3",
   "language": "python",
   "name": "python3"
  },
  "language_info": {
   "codemirror_mode": {
    "name": "ipython",
    "version": 3
   },
   "file_extension": ".py",
   "mimetype": "text/x-python",
   "name": "python",
   "nbconvert_exporter": "python",
   "pygments_lexer": "ipython3",
   "version": "3.10.12"
  }
 },
 "nbformat": 4,
 "nbformat_minor": 2
}
