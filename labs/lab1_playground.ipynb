{
 "cells": [
  {
   "cell_type": "markdown",
   "metadata": {},
   "source": [
    "# Lab 1 playground\n",
    "Below are a few examples you can run if you wish! These make use of the `transformers` library.\n",
    "The examples require around ~0 GB of available storage."
   ]
  },
  {
   "cell_type": "code",
   "execution_count": null,
   "metadata": {},
   "outputs": [],
   "source": [
    "# install requirements:\n",
    "%pip install transformers\n",
    "%pip install torch"
   ]
  },
  {
   "cell_type": "markdown",
   "metadata": {},
   "source": [
    "### GPT"
   ]
  },
  {
   "cell_type": "code",
   "execution_count": null,
   "metadata": {},
   "outputs": [],
   "source": [
    "import torch\n",
    "from transformers import AutoTokenizer, AutoModelForCausalLM\n",
    "\n",
    "model_id = \"EleutherAI/gpt-neo-125m\"\n",
    "tokenizer = AutoTokenizer.from_pretrained(model_id)\n",
    "model = AutoModelForCausalLM.from_pretrained(model_id)\n",
    "\n",
    "print(f\"{model_id}'s vocab size is {model.config.vocab_size}\")\n",
    "\n",
    "query = \"We study because\"\n",
    "# this encodes the query according to the model's setup and vocabulary\n",
    "encoded_text = tokenizer(query, return_tensors=\"pt\")\n",
    "print(encoded_text)  # notice the input_ids, which are the token indices in the vocab\n",
    "print(f\"Inspect a vocab id 1135: {tokenizer.decode(1135)}\")\n",
    "\n",
    "with torch.no_grad():  # disable gradient calculation for inference\n",
    "    outputs = model(**encoded_text)\n",
    "next_token = outputs.logits[-1, -1, :] # select the last token from the sequence and all the vocab logits (:)\n",
    "print(\"The outputs of the next token will be a distribution over the entire vocabulary\")\n",
    "print(f\"Output: {next_token.shape[0]} == Vocab: {model.config.vocab_size}\")\n",
    "\n",
    "probdist = torch.softmax(next_token, -1)  # -1 means last axis, or the vocab axis\n",
    "\n",
    "k_best = 5\n",
    "topk_next_tokens= torch.topk(probdist, k_best)\n",
    "\n",
    "print(\"-\" * 50)\n",
    "print(query)\n",
    "for idx, prob in zip(topk_next_tokens.indices, topk_next_tokens.values):\n",
    "    print(f\"- {tokenizer.decode(idx).strip()} (prob {prob.item():.4f})\")"
   ]
  },
  {
   "cell_type": "code",
   "execution_count": null,
   "metadata": {},
   "outputs": [],
   "source": [
    "# it can also be used in a simple pipeline:\n",
    "from transformers import pipeline\n",
    "\n",
    "gpt_pipe = pipeline(\"text-generation\", model=\"EleutherAI/gpt-neo-125m\");\n",
    "output = gpt_pipe(\"This model is pretty bad, but\")\n",
    "print(output[0][\"generated_text\"])"
   ]
  },
  {
   "cell_type": "markdown",
   "metadata": {},
   "source": [
    "### A BERT masked example"
   ]
  },
  {
   "cell_type": "code",
   "execution_count": null,
   "metadata": {},
   "outputs": [],
   "source": [
    "from transformers import BertTokenizer, BertForMaskedLM\n",
    "\n",
    "bert_model_id = \"bert-base-cased\"\n",
    "tokenizer = BertTokenizer.from_pretrained(bert_model_id)\n",
    "model = BertForMaskedLM.from_pretrained(bert_model_id)\n",
    "\n",
    "MASK = tokenizer.mask_token\n",
    "text = f\"At NTNU you can study {MASK} engineering\"\n",
    "\n",
    "encoded = tokenizer.encode(text)\n",
    "decoded = tokenizer.decode(encoded)\n",
    "tokens = tokenizer.tokenize(decoded)\n",
    "mask_position = tokens.index('[MASK]')\n",
    "\n",
    "input_ids = tokenizer.convert_tokens_to_ids(tokens)\n",
    "input_ids = torch.tensor(input_ids).unsqueeze(0)\n",
    "\n",
    "with torch.no_grad():\n",
    "    predictions = model(input_ids)[0]\n",
    "\n",
    "top_k_values, top_k_indices = torch.topk(predictions[0, mask_position], k=10)\n",
    "top_k_tokens = tokenizer.convert_ids_to_tokens(top_k_indices)\n",
    "\n",
    "print(\"-\" * 50)\n",
    "print(text)\n",
    "for token, score in zip(top_k_tokens, top_k_values):\n",
    "    print(f\"{token} (prob: {score.item():.4f})\")\n"
   ]
  }
 ],
 "metadata": {
  "kernelspec": {
   "display_name": "Python 3",
   "language": "python",
   "name": "python3"
  },
  "language_info": {
   "codemirror_mode": {
    "name": "ipython",
    "version": 3
   },
   "file_extension": ".py",
   "mimetype": "text/x-python",
   "name": "python",
   "nbconvert_exporter": "python",
   "pygments_lexer": "ipython3",
   "version": "3.10.12"
  }
 },
 "nbformat": 4,
 "nbformat_minor": 2
}
